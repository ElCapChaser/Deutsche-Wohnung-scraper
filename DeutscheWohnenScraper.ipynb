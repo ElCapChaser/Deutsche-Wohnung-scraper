{
 "cells": [
  {
   "cell_type": "code",
   "execution_count": 21,
   "metadata": {},
   "outputs": [],
   "source": [
    "from selenium import webdriver\n",
    "driver = webdriver.Chrome('C:/Users/steve/Downloads/chromedriver_win32/chromedriver.exe')\n",
    "import numpy as np\n",
    "import pandas as pd\n",
    "import datetime as dt "
   ]
  },
  {
   "cell_type": "code",
   "execution_count": 22,
   "metadata": {},
   "outputs": [],
   "source": [
    "#Berlin search URL - to be refined on postalcode\n",
    "url = 'https://www.deutsche-wohnen.com/mieten/mietangebote/zuhause-mieten/#commercializationType=rent&utilizationType=flat&location=wedding'\n",
    "\n",
    "#pankow search URL: https://www.deutsche-wohnen.com/mieten/mietangebote/zuhause-mieten/#commercializationType=rent&utilizationType=flat&location=Berlin%20-%20Pankow"
   ]
  },
  {
   "cell_type": "code",
   "execution_count": 23,
   "metadata": {},
   "outputs": [],
   "source": [
    "driver.get(url)"
   ]
  },
  {
   "cell_type": "code",
   "execution_count": 24,
   "metadata": {},
   "outputs": [
    {
     "name": "stdout",
     "output_type": "stream",
     "text": [
      "3\n"
     ]
    }
   ],
   "source": [
    "#get number of hits\n",
    "treffers = str(driver.find_element_by_xpath('.//*[@id=\"search-objects-result\"]').text)\n",
    "\n",
    "#transfer number of hits from string into number\n",
    "treffers = int(treffers.strip(' TREFFER'))\n",
    "end = np.min([10,treffers])\n",
    "print(end)"
   ]
  },
  {
   "cell_type": "code",
   "execution_count": 29,
   "metadata": {},
   "outputs": [],
   "source": [
    "#build a loop going up to the MIN(number of hits,10) == 10 is max number of items on the page\n",
    "\n",
    "house_list = []\n",
    "\n",
    "for i in range(1,end+1):\n",
    "    title = driver.find_element_by_xpath('.//*[@id=\"object-list-listcontainer\"]/ul/li[{}]/a/h2'.format(i)).text\n",
    "    address = driver.find_element_by_xpath('.//*[@id=\"object-list-listcontainer\"]/ul/li[{}]/a/div[1]'.format(i)).text\n",
    "    details = driver.find_element_by_xpath('.//*[@id=\"object-list-listcontainer\"]/ul/li[{}]/a/ul'.format(i)).text\n",
    "    price = driver.find_element_by_xpath('.//*[@id=\"object-list-listcontainer\"]/ul/li[{}]/a/div[2]'.format(i)).text\n",
    "    house_item = {\n",
    "        'title' : title,\n",
    "        'address' : address,\n",
    "        'details' : details,\n",
    "        'price' : price,\n",
    "    }\n",
    "    house_list.append(house_item)\n",
    "   "
   ]
  },
  {
   "cell_type": "code",
   "execution_count": 33,
   "metadata": {},
   "outputs": [
    {
     "name": "stdout",
     "output_type": "stream",
     "text": [
      "                                   address  \\\n",
      "0  Ostender Str. 25B\\n13353 Berlin-Wedding   \n",
      "1     Petersallee 24\\n13351 Berlin-Wedding   \n",
      "2       Togostr. 25D\\n13351 Berlin-Wedding   \n",
      "\n",
      "                                                date  \\\n",
      "0  <built-in method today of type object at 0x000...   \n",
      "1  <built-in method today of type object at 0x000...   \n",
      "2  <built-in method today of type object at 0x000...   \n",
      "\n",
      "                            details                  price  \\\n",
      "0  59,72 m2|\\n1.2 Zimmer|\\n1. Etage  Gesamtmiete\\n713,92 €   \n",
      "1   42,1 m2|\\n1.5 Zimmer|\\n1. Etage  Gesamtmiete\\n611,37 €   \n",
      "2    47,79 m2|\\n2 Zimmer|\\n1. Etage  Gesamtmiete\\n609,39 €   \n",
      "\n",
      "                           title        Date  \n",
      "0  Idyllisch und frisch saniert!  2020-08-22  \n",
      "1     'Renovierte Altbauwohnung'  2020-08-22  \n",
      "2       *Willkommen in Rehberge*  2020-08-22  \n"
     ]
    }
   ],
   "source": [
    "df = pd.DataFrame(house_list)\n",
    "date = dt.date.today()\n",
    "df['Date'] = date\n",
    "print(df)"
   ]
  },
  {
   "cell_type": "code",
   "execution_count": 34,
   "metadata": {},
   "outputs": [],
   "source": [
    "df.to_excel('C:/Users/steve/OneDrive/Other/Desktop/Housing_search.xlsx')"
   ]
  },
  {
   "cell_type": "code",
   "execution_count": null,
   "metadata": {},
   "outputs": [],
   "source": [
    "driver.quit()"
   ]
  }
 ],
 "metadata": {
  "kernelspec": {
   "display_name": "Python 3",
   "language": "python",
   "name": "python3"
  },
  "language_info": {
   "codemirror_mode": {
    "name": "ipython",
    "version": 3
   },
   "file_extension": ".py",
   "mimetype": "text/x-python",
   "name": "python",
   "nbconvert_exporter": "python",
   "pygments_lexer": "ipython3",
   "version": "3.7.1"
  }
 },
 "nbformat": 4,
 "nbformat_minor": 2
}
